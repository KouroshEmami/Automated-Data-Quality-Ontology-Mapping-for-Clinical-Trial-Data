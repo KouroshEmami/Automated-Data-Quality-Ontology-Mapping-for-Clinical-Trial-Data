{
 "cells": [
  {
   "cell_type": "markdown",
   "metadata": {},
   "source": [
    "# 📊 03 - Reporting & Root Cause Analysis"
   ]
  },
  {
   "cell_type": "code",
   "execution_count": 1,
   "metadata": {},
   "outputs": [
    {
     "data": {
      "text/html": [
       "<div>\n",
       "<style scoped>\n",
       "    .dataframe tbody tr th:only-of-type {\n",
       "        vertical-align: middle;\n",
       "    }\n",
       "\n",
       "    .dataframe tbody tr th {\n",
       "        vertical-align: top;\n",
       "    }\n",
       "\n",
       "    .dataframe thead th {\n",
       "        text-align: right;\n",
       "    }\n",
       "</style>\n",
       "<table border=\"1\" class=\"dataframe\">\n",
       "  <thead>\n",
       "    <tr style=\"text-align: right;\">\n",
       "      <th></th>\n",
       "      <th>study_id</th>\n",
       "      <th>intervention_name</th>\n",
       "      <th>condition</th>\n",
       "      <th>sponsor</th>\n",
       "      <th>start_date</th>\n",
       "      <th>end_date</th>\n",
       "      <th>phase</th>\n",
       "      <th>status</th>\n",
       "      <th>completeness_score</th>\n",
       "      <th>study_duration_days</th>\n",
       "      <th>mapped_term</th>\n",
       "      <th>match_score</th>\n",
       "      <th>mapping_status</th>\n",
       "    </tr>\n",
       "  </thead>\n",
       "  <tbody>\n",
       "    <tr>\n",
       "      <th>0</th>\n",
       "      <td>NCT100000</td>\n",
       "      <td>Aspirin</td>\n",
       "      <td>Covid-19</td>\n",
       "      <td>Sanofi</td>\n",
       "      <td>2022-09-20</td>\n",
       "      <td>2025-04-07</td>\n",
       "      <td>Phase 2</td>\n",
       "      <td>Withdrawn</td>\n",
       "      <td>1.000</td>\n",
       "      <td>930.0</td>\n",
       "      <td>Aspirin</td>\n",
       "      <td>100</td>\n",
       "      <td>mapped</td>\n",
       "    </tr>\n",
       "    <tr>\n",
       "      <th>1</th>\n",
       "      <td>NCT100001</td>\n",
       "      <td>Trastuzumab</td>\n",
       "      <td>Alzheimer'S Disease</td>\n",
       "      <td>Pfizer</td>\n",
       "      <td>2023-07-01</td>\n",
       "      <td>2024-09-05</td>\n",
       "      <td>NaN</td>\n",
       "      <td>Terminated</td>\n",
       "      <td>0.875</td>\n",
       "      <td>432.0</td>\n",
       "      <td>Trastuzumab</td>\n",
       "      <td>100</td>\n",
       "      <td>mapped</td>\n",
       "    </tr>\n",
       "    <tr>\n",
       "      <th>2</th>\n",
       "      <td>NCT100002</td>\n",
       "      <td>Donepezil</td>\n",
       "      <td>Hypertension</td>\n",
       "      <td>Pfizer</td>\n",
       "      <td>2021-08-17</td>\n",
       "      <td>2025-05-24</td>\n",
       "      <td>Phase 1</td>\n",
       "      <td>Completed</td>\n",
       "      <td>1.000</td>\n",
       "      <td>1376.0</td>\n",
       "      <td>Donepezil</td>\n",
       "      <td>100</td>\n",
       "      <td>mapped</td>\n",
       "    </tr>\n",
       "    <tr>\n",
       "      <th>3</th>\n",
       "      <td>NCT100003</td>\n",
       "      <td>Remdesivir</td>\n",
       "      <td>Breast Cancer</td>\n",
       "      <td>Sanofi</td>\n",
       "      <td>2022-04-15</td>\n",
       "      <td>2025-05-20</td>\n",
       "      <td>Phase 1</td>\n",
       "      <td>Terminated</td>\n",
       "      <td>1.000</td>\n",
       "      <td>1131.0</td>\n",
       "      <td>Remdesivir</td>\n",
       "      <td>100</td>\n",
       "      <td>mapped</td>\n",
       "    </tr>\n",
       "    <tr>\n",
       "      <th>4</th>\n",
       "      <td>NCT100004</td>\n",
       "      <td>Aspirin</td>\n",
       "      <td>Breast Cancer</td>\n",
       "      <td>Pfizer</td>\n",
       "      <td>2023-09-10</td>\n",
       "      <td>2024-08-28</td>\n",
       "      <td>Phase 4</td>\n",
       "      <td>Completed</td>\n",
       "      <td>1.000</td>\n",
       "      <td>353.0</td>\n",
       "      <td>Aspirin</td>\n",
       "      <td>100</td>\n",
       "      <td>mapped</td>\n",
       "    </tr>\n",
       "  </tbody>\n",
       "</table>\n",
       "</div>"
      ],
      "text/plain": [
       "    study_id intervention_name            condition sponsor  start_date  \\\n",
       "0  NCT100000           Aspirin             Covid-19  Sanofi  2022-09-20   \n",
       "1  NCT100001       Trastuzumab  Alzheimer'S Disease  Pfizer  2023-07-01   \n",
       "2  NCT100002         Donepezil         Hypertension  Pfizer  2021-08-17   \n",
       "3  NCT100003        Remdesivir        Breast Cancer  Sanofi  2022-04-15   \n",
       "4  NCT100004           Aspirin        Breast Cancer  Pfizer  2023-09-10   \n",
       "\n",
       "     end_date    phase      status  completeness_score  study_duration_days  \\\n",
       "0  2025-04-07  Phase 2   Withdrawn               1.000                930.0   \n",
       "1  2024-09-05      NaN  Terminated               0.875                432.0   \n",
       "2  2025-05-24  Phase 1   Completed               1.000               1376.0   \n",
       "3  2025-05-20  Phase 1  Terminated               1.000               1131.0   \n",
       "4  2024-08-28  Phase 4   Completed               1.000                353.0   \n",
       "\n",
       "   mapped_term  match_score mapping_status  \n",
       "0      Aspirin          100         mapped  \n",
       "1  Trastuzumab          100         mapped  \n",
       "2    Donepezil          100         mapped  \n",
       "3   Remdesivir          100         mapped  \n",
       "4      Aspirin          100         mapped  "
      ]
     },
     "execution_count": 1,
     "metadata": {},
     "output_type": "execute_result"
    }
   ],
   "source": [
    "import pandas as pd\n",
    "import matplotlib.pyplot as plt\n",
    "from pathlib import Path\n",
    "import seaborn as sns\n",
    "\n",
    "\n",
    "BASE_DIR = Path.cwd()\n",
    "DATA_PATH = BASE_DIR / \"data\" / \"mapping_results.csv\"\n",
    "\n",
    "if not DATA_PATH.exists():  \n",
    "    raise FileNotFoundError(f\"Data file not found at {DATA_PATH}\")\n",
    "\n",
    "df = pd.read_csv(DATA_PATH)\n",
    "df.head()"
   ]
  },
  {
   "cell_type": "markdown",
   "metadata": {},
   "source": [
    "## 📈 Data Quality Summary"
   ]
  },
  {
   "cell_type": "code",
   "execution_count": 2,
   "metadata": {},
   "outputs": [
    {
     "name": "stdout",
     "output_type": "stream",
     "text": [
      "Missing Values Summary:\n",
      " intervention_name     61\n",
      "condition             35\n",
      "phase                252\n",
      "status                 0\n",
      "dtype: int64\n",
      "\n",
      "94.92% of interventions successfully mapped to ontology.\n"
     ]
    }
   ],
   "source": [
    "# Check for missing values in key columns\n",
    "missing_values = df[['intervention_name', 'condition', 'phase', 'status']].isnull().sum()\n",
    "print(\"Missing Values Summary:\\n\", missing_values)\n",
    "\n",
    "# Percentage of mapped interventions\n",
    "mapped_percent = (df['mapping_status'] == 'mapped').mean() * 100\n",
    "print(f\"\\n{mapped_percent:.2f}% of interventions successfully mapped to ontology.\")"
   ]
  },
  {
   "cell_type": "markdown",
   "metadata": {},
   "source": [
    "## 📊 Visualizing Mapping Status"
   ]
  },
  {
   "cell_type": "code",
   "execution_count": 3,
   "metadata": {},
   "outputs": [
    {
     "data": {
      "image/png": "[encoded data removed]",
      "text/plain": [
       "<Figure size 640x480 with 1 Axes>"
      ]
     },
     "metadata": {},
     "output_type": "display_data"
    }
   ],
   "source": [
    "sns.countplot(data=df, x='mapping_status')\n",
    "plt.title(\"Mapping Status of Intervention Names\")\n",
    "plt.xlabel(\"Status\")\n",
    "plt.ylabel(\"Count\")\n",
    "plt.tight_layout()\n",
    "plt.show()"
   ]
  },
  {
   "cell_type": "markdown",
   "metadata": {},
   "source": [
    "## 🔍 Root Cause Analysis (Why Data Fails)"
   ]
  },
  {
   "cell_type": "code",
   "execution_count": 4,
   "metadata": {},
   "outputs": [
    {
     "name": "stdout",
     "output_type": "stream",
     "text": [
      "Top Reasons for Mapping Failures:\n",
      "mapping_status\n",
      "low_score    61\n",
      "Name: count, dtype: int64\n"
     ]
    },
    {
     "data": {
      "text/html": [
       "<div>\n",
       "<style scoped>\n",
       "    .dataframe tbody tr th:only-of-type {\n",
       "        vertical-align: middle;\n",
       "    }\n",
       "\n",
       "    .dataframe tbody tr th {\n",
       "        vertical-align: top;\n",
       "    }\n",
       "\n",
       "    .dataframe thead th {\n",
       "        text-align: right;\n",
       "    }\n",
       "</style>\n",
       "<table border=\"1\" class=\"dataframe\">\n",
       "  <thead>\n",
       "    <tr style=\"text-align: right;\">\n",
       "      <th></th>\n",
       "      <th>intervention_name</th>\n",
       "      <th>mapped_term</th>\n",
       "      <th>match_score</th>\n",
       "      <th>mapping_status</th>\n",
       "    </tr>\n",
       "  </thead>\n",
       "  <tbody>\n",
       "    <tr>\n",
       "      <th>14</th>\n",
       "      <td>NaN</td>\n",
       "      <td>Metformin</td>\n",
       "      <td>45</td>\n",
       "      <td>low_score</td>\n",
       "    </tr>\n",
       "    <tr>\n",
       "      <th>53</th>\n",
       "      <td>NaN</td>\n",
       "      <td>Metformin</td>\n",
       "      <td>45</td>\n",
       "      <td>low_score</td>\n",
       "    </tr>\n",
       "    <tr>\n",
       "      <th>97</th>\n",
       "      <td>NaN</td>\n",
       "      <td>Metformin</td>\n",
       "      <td>45</td>\n",
       "      <td>low_score</td>\n",
       "    </tr>\n",
       "    <tr>\n",
       "      <th>112</th>\n",
       "      <td>NaN</td>\n",
       "      <td>Metformin</td>\n",
       "      <td>45</td>\n",
       "      <td>low_score</td>\n",
       "    </tr>\n",
       "    <tr>\n",
       "      <th>113</th>\n",
       "      <td>NaN</td>\n",
       "      <td>Metformin</td>\n",
       "      <td>45</td>\n",
       "      <td>low_score</td>\n",
       "    </tr>\n",
       "    <tr>\n",
       "      <th>124</th>\n",
       "      <td>NaN</td>\n",
       "      <td>Metformin</td>\n",
       "      <td>45</td>\n",
       "      <td>low_score</td>\n",
       "    </tr>\n",
       "    <tr>\n",
       "      <th>132</th>\n",
       "      <td>NaN</td>\n",
       "      <td>Metformin</td>\n",
       "      <td>45</td>\n",
       "      <td>low_score</td>\n",
       "    </tr>\n",
       "    <tr>\n",
       "      <th>150</th>\n",
       "      <td>NaN</td>\n",
       "      <td>Metformin</td>\n",
       "      <td>45</td>\n",
       "      <td>low_score</td>\n",
       "    </tr>\n",
       "    <tr>\n",
       "      <th>157</th>\n",
       "      <td>NaN</td>\n",
       "      <td>Metformin</td>\n",
       "      <td>45</td>\n",
       "      <td>low_score</td>\n",
       "    </tr>\n",
       "    <tr>\n",
       "      <th>161</th>\n",
       "      <td>NaN</td>\n",
       "      <td>Metformin</td>\n",
       "      <td>45</td>\n",
       "      <td>low_score</td>\n",
       "    </tr>\n",
       "  </tbody>\n",
       "</table>\n",
       "</div>"
      ],
      "text/plain": [
       "    intervention_name mapped_term  match_score mapping_status\n",
       "14                NaN   Metformin           45      low_score\n",
       "53                NaN   Metformin           45      low_score\n",
       "97                NaN   Metformin           45      low_score\n",
       "112               NaN   Metformin           45      low_score\n",
       "113               NaN   Metformin           45      low_score\n",
       "124               NaN   Metformin           45      low_score\n",
       "132               NaN   Metformin           45      low_score\n",
       "150               NaN   Metformin           45      low_score\n",
       "157               NaN   Metformin           45      low_score\n",
       "161               NaN   Metformin           45      low_score"
      ]
     },
     "execution_count": 4,
     "metadata": {},
     "output_type": "execute_result"
    }
   ],
   "source": [
    "failures = df[df['mapping_status'] != 'mapped']\n",
    "\n",
    "# Top reasons: missing, low match scores, etc.\n",
    "print(\"Top Reasons for Mapping Failures:\")\n",
    "print(failures['mapping_status'].value_counts())\n",
    "\n",
    "# Sample failed mappings\n",
    "failures[['intervention_name', 'mapped_term', 'match_score', 'mapping_status']].head(10)"
   ]
  },
  {
   "cell_type": "markdown",
   "metadata": {},
   "source": [
    "## 💾 Save Summary for Dashboard or Report"
   ]
  },
  {
   "cell_type": "code",
   "execution_count": 7,
   "metadata": {},
   "outputs": [
    {
     "data": {
      "text/html": [
       "<div>\n",
       "<style scoped>\n",
       "    .dataframe tbody tr th:only-of-type {\n",
       "        vertical-align: middle;\n",
       "    }\n",
       "\n",
       "    .dataframe tbody tr th {\n",
       "        vertical-align: top;\n",
       "    }\n",
       "\n",
       "    .dataframe thead th {\n",
       "        text-align: right;\n",
       "    }\n",
       "</style>\n",
       "<table border=\"1\" class=\"dataframe\">\n",
       "  <thead>\n",
       "    <tr style=\"text-align: right;\">\n",
       "      <th></th>\n",
       "      <th>total_records</th>\n",
       "      <th>mapped_count</th>\n",
       "      <th>missing_count</th>\n",
       "      <th>low_score_count</th>\n",
       "      <th>mapping_success_rate</th>\n",
       "    </tr>\n",
       "  </thead>\n",
       "  <tbody>\n",
       "    <tr>\n",
       "      <th>0</th>\n",
       "      <td>1200</td>\n",
       "      <td>1139</td>\n",
       "      <td>0</td>\n",
       "      <td>61</td>\n",
       "      <td>94.92</td>\n",
       "    </tr>\n",
       "  </tbody>\n",
       "</table>\n",
       "</div>"
      ],
      "text/plain": [
       "   total_records  mapped_count  missing_count  low_score_count  \\\n",
       "0           1200          1139              0               61   \n",
       "\n",
       "   mapping_success_rate  \n",
       "0                 94.92  "
      ]
     },
     "execution_count": 7,
     "metadata": {},
     "output_type": "execute_result"
    }
   ],
   "source": [
    "# Summary metrics\n",
    "summary = {\n",
    "    'total_records': len(df),\n",
    "    'mapped_count': int((df['mapping_status'] == 'mapped').sum()),\n",
    "    'missing_count': int((df['mapping_status'] == 'missing').sum()),\n",
    "    'low_score_count': int((df['mapping_status'] == 'low_score').sum()),\n",
    "    'mapping_success_rate': round(mapped_percent, 2)\n",
    "}\n",
    "\n",
    "# Convert to DataFrame and export\n",
    "summary_df = pd.DataFrame([summary])\n",
    "summary_df.to_csv(DATA_PATH.parent / \"mapping_summary_report.csv\", index=False)\n",
    "summary_df"
   ]
  }
 ],
 "metadata": {
  "kernelspec": {
   "display_name": "Python 3",
   "language": "python",
   "name": "python3"
  },
  "language_info": {
   "codemirror_mode": {
    "name": "ipython",
    "version": 3
   },
   "file_extension": ".py",
   "mimetype": "text/x-python",
   "name": "python",
   "nbconvert_exporter": "python",
   "pygments_lexer": "ipython3",
   "version": "3.12.1"
  }
 },
 "nbformat": 4,
 "nbformat_minor": 2
}
