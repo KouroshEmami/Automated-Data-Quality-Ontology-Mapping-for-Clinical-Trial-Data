{
 "cells": [
  {
   "cell_type": "markdown",
   "id": "ef0d0fdc",
   "metadata": {},
   "source": [
    "# 🧼 01 - Data Cleaning: Clinical Trials Dataset"
   ]
  },
  {
   "cell_type": "code",
   "execution_count": 26,
   "id": "29ad4c93",
   "metadata": {},
   "outputs": [
    {
     "data": {
      "text/html": [
       "<div>\n",
       "<style scoped>\n",
       "    .dataframe tbody tr th:only-of-type {\n",
       "        vertical-align: middle;\n",
       "    }\n",
       "\n",
       "    .dataframe tbody tr th {\n",
       "        vertical-align: top;\n",
       "    }\n",
       "\n",
       "    .dataframe thead th {\n",
       "        text-align: right;\n",
       "    }\n",
       "</style>\n",
       "<table border=\"1\" class=\"dataframe\">\n",
       "  <thead>\n",
       "    <tr style=\"text-align: right;\">\n",
       "      <th></th>\n",
       "      <th>study_id</th>\n",
       "      <th>intervention_name</th>\n",
       "      <th>condition</th>\n",
       "      <th>sponsor</th>\n",
       "      <th>start_date</th>\n",
       "      <th>end_date</th>\n",
       "      <th>phase</th>\n",
       "      <th>status</th>\n",
       "    </tr>\n",
       "  </thead>\n",
       "  <tbody>\n",
       "    <tr>\n",
       "      <th>0</th>\n",
       "      <td>NCT100000</td>\n",
       "      <td>Aspirin</td>\n",
       "      <td>COVID-19</td>\n",
       "      <td>Sanofi</td>\n",
       "      <td>2022-09-20</td>\n",
       "      <td>2025-04-07</td>\n",
       "      <td>Phase 2</td>\n",
       "      <td>Withdrawn</td>\n",
       "    </tr>\n",
       "    <tr>\n",
       "      <th>1</th>\n",
       "      <td>NCT100001</td>\n",
       "      <td>Trastuzumab</td>\n",
       "      <td>Alzheimer's Disease</td>\n",
       "      <td>Pfizer</td>\n",
       "      <td>2023-07-01</td>\n",
       "      <td>2024-09-05</td>\n",
       "      <td>NaN</td>\n",
       "      <td>Terminated</td>\n",
       "    </tr>\n",
       "    <tr>\n",
       "      <th>2</th>\n",
       "      <td>NCT100002</td>\n",
       "      <td>Donepezil</td>\n",
       "      <td>Hypertension</td>\n",
       "      <td>Pfizer</td>\n",
       "      <td>2021-08-17</td>\n",
       "      <td>2025-05-24</td>\n",
       "      <td>Phase 1</td>\n",
       "      <td>Completed</td>\n",
       "    </tr>\n",
       "    <tr>\n",
       "      <th>3</th>\n",
       "      <td>NCT100003</td>\n",
       "      <td>Remdesivir</td>\n",
       "      <td>Breast Cancer</td>\n",
       "      <td>Sanofi</td>\n",
       "      <td>2022-04-15</td>\n",
       "      <td>2025-05-20</td>\n",
       "      <td>Phase 1</td>\n",
       "      <td>Terminated</td>\n",
       "    </tr>\n",
       "    <tr>\n",
       "      <th>4</th>\n",
       "      <td>NCT100004</td>\n",
       "      <td>Aspirin</td>\n",
       "      <td>Breast Cancer</td>\n",
       "      <td>Pfizer</td>\n",
       "      <td>2023-09-10</td>\n",
       "      <td>2024-08-28</td>\n",
       "      <td>Phase 4</td>\n",
       "      <td>Completed</td>\n",
       "    </tr>\n",
       "  </tbody>\n",
       "</table>\n",
       "</div>"
      ],
      "text/plain": [
       "    study_id intervention_name            condition sponsor  start_date  \\\n",
       "0  NCT100000           Aspirin             COVID-19  Sanofi  2022-09-20   \n",
       "1  NCT100001       Trastuzumab  Alzheimer's Disease  Pfizer  2023-07-01   \n",
       "2  NCT100002         Donepezil         Hypertension  Pfizer  2021-08-17   \n",
       "3  NCT100003        Remdesivir        Breast Cancer  Sanofi  2022-04-15   \n",
       "4  NCT100004           Aspirin        Breast Cancer  Pfizer  2023-09-10   \n",
       "\n",
       "     end_date    phase      status  \n",
       "0  2025-04-07  Phase 2   Withdrawn  \n",
       "1  2024-09-05      NaN  Terminated  \n",
       "2  2025-05-24  Phase 1   Completed  \n",
       "3  2025-05-20  Phase 1  Terminated  \n",
       "4  2024-08-28  Phase 4   Completed  "
      ]
     },
     "execution_count": 26,
     "metadata": {},
     "output_type": "execute_result"
    }
   ],
   "source": [
    "\n",
    "import pandas as pd\n",
    "from pathlib import Path\n",
    "\n",
    "BASE_DIR = Path.cwd()\n",
    "DATA_PATH = BASE_DIR / \"data\" / \"clinical_trials_sample.csv\"\n",
    "\n",
    "if not DATA_PATH.exists():  \n",
    "    raise FileNotFoundError(f\"Data file not found at {DATA_PATH}\")\n",
    "\n",
    "df = pd.read_csv(DATA_PATH)\n",
    "df.head()"
   ]
  },
  {
   "cell_type": "markdown",
   "id": "e2ccf874",
   "metadata": {},
   "source": [
    "## 🔍 Step 1: Inspect Data Structure"
   ]
  },
  {
   "cell_type": "code",
   "execution_count": 27,
   "id": "478ce46c",
   "metadata": {},
   "outputs": [
    {
     "name": "stdout",
     "output_type": "stream",
     "text": [
      "<class 'pandas.core.frame.DataFrame'>\n",
      "RangeIndex: 1200 entries, 0 to 1199\n",
      "Data columns (total 8 columns):\n",
      " #   Column             Non-Null Count  Dtype \n",
      "---  ------             --------------  ----- \n",
      " 0   study_id           1200 non-null   object\n",
      " 1   intervention_name  1139 non-null   object\n",
      " 2   condition          1165 non-null   object\n",
      " 3   sponsor            1200 non-null   object\n",
      " 4   start_date         1200 non-null   object\n",
      " 5   end_date           963 non-null    object\n",
      " 6   phase              948 non-null    object\n",
      " 7   status             1200 non-null   object\n",
      "dtypes: object(8)\n",
      "memory usage: 75.1+ KB\n"
     ]
    },
    {
     "data": {
      "text/html": [
       "<div>\n",
       "<style scoped>\n",
       "    .dataframe tbody tr th:only-of-type {\n",
       "        vertical-align: middle;\n",
       "    }\n",
       "\n",
       "    .dataframe tbody tr th {\n",
       "        vertical-align: top;\n",
       "    }\n",
       "\n",
       "    .dataframe thead th {\n",
       "        text-align: right;\n",
       "    }\n",
       "</style>\n",
       "<table border=\"1\" class=\"dataframe\">\n",
       "  <thead>\n",
       "    <tr style=\"text-align: right;\">\n",
       "      <th></th>\n",
       "      <th>study_id</th>\n",
       "      <th>intervention_name</th>\n",
       "      <th>condition</th>\n",
       "      <th>sponsor</th>\n",
       "      <th>start_date</th>\n",
       "      <th>end_date</th>\n",
       "      <th>phase</th>\n",
       "      <th>status</th>\n",
       "    </tr>\n",
       "  </thead>\n",
       "  <tbody>\n",
       "    <tr>\n",
       "      <th>count</th>\n",
       "      <td>1200</td>\n",
       "      <td>1139</td>\n",
       "      <td>1165</td>\n",
       "      <td>1200</td>\n",
       "      <td>1200</td>\n",
       "      <td>963</td>\n",
       "      <td>948</td>\n",
       "      <td>1200</td>\n",
       "    </tr>\n",
       "    <tr>\n",
       "      <th>unique</th>\n",
       "      <td>1200</td>\n",
       "      <td>6</td>\n",
       "      <td>6</td>\n",
       "      <td>6</td>\n",
       "      <td>800</td>\n",
       "      <td>335</td>\n",
       "      <td>4</td>\n",
       "      <td>4</td>\n",
       "    </tr>\n",
       "    <tr>\n",
       "      <th>top</th>\n",
       "      <td>NCT101183</td>\n",
       "      <td>Salbutamol</td>\n",
       "      <td>Alzheimer's Disease</td>\n",
       "      <td>Sanofi</td>\n",
       "      <td>2021-05-22</td>\n",
       "      <td>2024-09-03</td>\n",
       "      <td>Phase 4</td>\n",
       "      <td>Completed</td>\n",
       "    </tr>\n",
       "    <tr>\n",
       "      <th>freq</th>\n",
       "      <td>1</td>\n",
       "      <td>205</td>\n",
       "      <td>211</td>\n",
       "      <td>214</td>\n",
       "      <td>6</td>\n",
       "      <td>7</td>\n",
       "      <td>258</td>\n",
       "      <td>312</td>\n",
       "    </tr>\n",
       "  </tbody>\n",
       "</table>\n",
       "</div>"
      ],
      "text/plain": [
       "         study_id intervention_name            condition sponsor  start_date  \\\n",
       "count        1200              1139                 1165    1200        1200   \n",
       "unique       1200                 6                    6       6         800   \n",
       "top     NCT101183        Salbutamol  Alzheimer's Disease  Sanofi  2021-05-22   \n",
       "freq            1               205                  211     214           6   \n",
       "\n",
       "          end_date    phase     status  \n",
       "count          963      948       1200  \n",
       "unique         335        4          4  \n",
       "top     2024-09-03  Phase 4  Completed  \n",
       "freq             7      258        312  "
      ]
     },
     "execution_count": 27,
     "metadata": {},
     "output_type": "execute_result"
    }
   ],
   "source": [
    "\n",
    "df.info()\n",
    "df.describe(include='all')\n"
   ]
  },
  {
   "cell_type": "markdown",
   "id": "1dde4af3",
   "metadata": {},
   "source": [
    "## 📊 Step 2: Identify and Handle Missing Values"
   ]
  },
  {
   "cell_type": "code",
   "execution_count": 28,
   "id": "447aa26d",
   "metadata": {},
   "outputs": [
    {
     "name": "stdout",
     "output_type": "stream",
     "text": [
      "Missing Values:\n",
      " study_id               0\n",
      "intervention_name     61\n",
      "condition             35\n",
      "sponsor                0\n",
      "start_date             0\n",
      "end_date             237\n",
      "phase                252\n",
      "status                 0\n",
      "dtype: int64\n"
     ]
    },
    {
     "data": {
      "text/html": [
       "<div>\n",
       "<style scoped>\n",
       "    .dataframe tbody tr th:only-of-type {\n",
       "        vertical-align: middle;\n",
       "    }\n",
       "\n",
       "    .dataframe tbody tr th {\n",
       "        vertical-align: top;\n",
       "    }\n",
       "\n",
       "    .dataframe thead th {\n",
       "        text-align: right;\n",
       "    }\n",
       "</style>\n",
       "<table border=\"1\" class=\"dataframe\">\n",
       "  <thead>\n",
       "    <tr style=\"text-align: right;\">\n",
       "      <th></th>\n",
       "      <th>study_id</th>\n",
       "      <th>completeness_score</th>\n",
       "    </tr>\n",
       "  </thead>\n",
       "  <tbody>\n",
       "    <tr>\n",
       "      <th>0</th>\n",
       "      <td>NCT100000</td>\n",
       "      <td>1.000</td>\n",
       "    </tr>\n",
       "    <tr>\n",
       "      <th>1</th>\n",
       "      <td>NCT100001</td>\n",
       "      <td>0.875</td>\n",
       "    </tr>\n",
       "    <tr>\n",
       "      <th>2</th>\n",
       "      <td>NCT100002</td>\n",
       "      <td>1.000</td>\n",
       "    </tr>\n",
       "    <tr>\n",
       "      <th>3</th>\n",
       "      <td>NCT100003</td>\n",
       "      <td>1.000</td>\n",
       "    </tr>\n",
       "    <tr>\n",
       "      <th>4</th>\n",
       "      <td>NCT100004</td>\n",
       "      <td>1.000</td>\n",
       "    </tr>\n",
       "  </tbody>\n",
       "</table>\n",
       "</div>"
      ],
      "text/plain": [
       "    study_id  completeness_score\n",
       "0  NCT100000               1.000\n",
       "1  NCT100001               0.875\n",
       "2  NCT100002               1.000\n",
       "3  NCT100003               1.000\n",
       "4  NCT100004               1.000"
      ]
     },
     "execution_count": 28,
     "metadata": {},
     "output_type": "execute_result"
    }
   ],
   "source": [
    "\n",
    "# Count missing values\n",
    "missing = df.isnull().sum()\n",
    "print(\"Missing Values:\\n\", missing)\n",
    "\n",
    "# Fill empty strings with NaN\n",
    "df.replace('', pd.NA, inplace=True)\n",
    "\n",
    "# Create a 'completeness_score' column\n",
    "df['completeness_score'] = df.notna().mean(axis=1)\n",
    "df[['study_id', 'completeness_score']].head()\n"
   ]
  },
  {
   "cell_type": "markdown",
   "id": "13ed20c1",
   "metadata": {},
   "source": [
    "## 🔁 Step 3: Remove Duplicates and Normalize Case"
   ]
  },
  {
   "cell_type": "code",
   "execution_count": 29,
   "id": "883d5398",
   "metadata": {},
   "outputs": [],
   "source": [
    "\n",
    "# Remove duplicate rows\n",
    "df.drop_duplicates(inplace=True)\n",
    "\n",
    "# Normalize casing\n",
    "df['intervention_name'] = df['intervention_name'].str.title()\n",
    "df['condition'] = df['condition'].str.title()\n",
    "df['sponsor'] = df['sponsor'].str.title()\n"
   ]
  },
  {
   "cell_type": "markdown",
   "id": "62be01de",
   "metadata": {},
   "source": [
    "## 📅 Step 4: Format Dates"
   ]
  },
  {
   "cell_type": "code",
   "execution_count": 30,
   "id": "658e416f",
   "metadata": {},
   "outputs": [
    {
     "data": {
      "text/html": [
       "<div>\n",
       "<style scoped>\n",
       "    .dataframe tbody tr th:only-of-type {\n",
       "        vertical-align: middle;\n",
       "    }\n",
       "\n",
       "    .dataframe tbody tr th {\n",
       "        vertical-align: top;\n",
       "    }\n",
       "\n",
       "    .dataframe thead th {\n",
       "        text-align: right;\n",
       "    }\n",
       "</style>\n",
       "<table border=\"1\" class=\"dataframe\">\n",
       "  <thead>\n",
       "    <tr style=\"text-align: right;\">\n",
       "      <th></th>\n",
       "      <th>study_id</th>\n",
       "      <th>start_date</th>\n",
       "      <th>end_date</th>\n",
       "      <th>study_duration_days</th>\n",
       "    </tr>\n",
       "  </thead>\n",
       "  <tbody>\n",
       "    <tr>\n",
       "      <th>0</th>\n",
       "      <td>NCT100000</td>\n",
       "      <td>2022-09-20</td>\n",
       "      <td>2025-04-07</td>\n",
       "      <td>930.0</td>\n",
       "    </tr>\n",
       "    <tr>\n",
       "      <th>1</th>\n",
       "      <td>NCT100001</td>\n",
       "      <td>2023-07-01</td>\n",
       "      <td>2024-09-05</td>\n",
       "      <td>432.0</td>\n",
       "    </tr>\n",
       "    <tr>\n",
       "      <th>2</th>\n",
       "      <td>NCT100002</td>\n",
       "      <td>2021-08-17</td>\n",
       "      <td>2025-05-24</td>\n",
       "      <td>1376.0</td>\n",
       "    </tr>\n",
       "    <tr>\n",
       "      <th>3</th>\n",
       "      <td>NCT100003</td>\n",
       "      <td>2022-04-15</td>\n",
       "      <td>2025-05-20</td>\n",
       "      <td>1131.0</td>\n",
       "    </tr>\n",
       "    <tr>\n",
       "      <th>4</th>\n",
       "      <td>NCT100004</td>\n",
       "      <td>2023-09-10</td>\n",
       "      <td>2024-08-28</td>\n",
       "      <td>353.0</td>\n",
       "    </tr>\n",
       "  </tbody>\n",
       "</table>\n",
       "</div>"
      ],
      "text/plain": [
       "    study_id start_date   end_date  study_duration_days\n",
       "0  NCT100000 2022-09-20 2025-04-07                930.0\n",
       "1  NCT100001 2023-07-01 2024-09-05                432.0\n",
       "2  NCT100002 2021-08-17 2025-05-24               1376.0\n",
       "3  NCT100003 2022-04-15 2025-05-20               1131.0\n",
       "4  NCT100004 2023-09-10 2024-08-28                353.0"
      ]
     },
     "execution_count": 30,
     "metadata": {},
     "output_type": "execute_result"
    }
   ],
   "source": [
    "\n",
    "df['start_date'] = pd.to_datetime(df['start_date'], errors='coerce')\n",
    "df['end_date'] = pd.to_datetime(df['end_date'], errors='coerce')\n",
    "\n",
    "# Calculate duration in days\n",
    "df['study_duration_days'] = (df['end_date'] - df['start_date']).dt.days\n",
    "df[['study_id', 'start_date', 'end_date', 'study_duration_days']].head()\n"
   ]
  },
  {
   "cell_type": "markdown",
   "id": "97d1f8b7",
   "metadata": {},
   "source": [
    "## 💾 Step 5: Save Cleaned Data"
   ]
  },
  {
   "cell_type": "code",
   "execution_count": 35,
   "id": "665bbadc",
   "metadata": {},
   "outputs": [
    {
     "name": "stdout",
     "output_type": "stream",
     "text": [
      "Cleaned data saved.\n"
     ]
    }
   ],
   "source": [
    "\n",
    "df.to_csv(DATA_PATH.parent / \"clinical_trials_cleaned.csv\", index=False)\n",
    "print(\"Cleaned data saved.\")\n"
   ]
  }
 ],
 "metadata": {
  "kernelspec": {
   "display_name": "Python 3",
   "language": "python",
   "name": "python3"
  },
  "language_info": {
   "codemirror_mode": {
    "name": "ipython",
    "version": 3
   },
   "file_extension": ".py",
   "mimetype": "text/x-python",
   "name": "python",
   "nbconvert_exporter": "python",
   "pygments_lexer": "ipython3",
   "version": "3.12.1"
  }
 },
 "nbformat": 4,
 "nbformat_minor": 5
}
