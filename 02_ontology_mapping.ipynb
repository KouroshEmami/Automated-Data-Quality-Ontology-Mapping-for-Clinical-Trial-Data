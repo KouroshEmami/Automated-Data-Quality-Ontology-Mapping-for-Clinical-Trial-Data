{
 "cells": [
  {
   "cell_type": "markdown",
   "metadata": {},
   "source": [
    "# 🧬 02 - Ontology Mapping of Intervention Names"
   ]
  },
  {
   "cell_type": "code",
   "execution_count": 2,
   "metadata": {},
   "outputs": [
    {
     "name": "stderr",
     "output_type": "stream",
     "text": [
      "c:\\Users\\k.emami\\AppData\\Local\\Programs\\Python\\Python312\\Lib\\site-packages\\fuzzywuzzy\\fuzz.py:11: UserWarning: Using slow pure-python SequenceMatcher. Install python-Levenshtein to remove this warning\n",
      "  warnings.warn('Using slow pure-python SequenceMatcher. Install python-Levenshtein to remove this warning')\n"
     ]
    },
    {
     "data": {
      "text/html": [
       "<div>\n",
       "<style scoped>\n",
       "    .dataframe tbody tr th:only-of-type {\n",
       "        vertical-align: middle;\n",
       "    }\n",
       "\n",
       "    .dataframe tbody tr th {\n",
       "        vertical-align: top;\n",
       "    }\n",
       "\n",
       "    .dataframe thead th {\n",
       "        text-align: right;\n",
       "    }\n",
       "</style>\n",
       "<table border=\"1\" class=\"dataframe\">\n",
       "  <thead>\n",
       "    <tr style=\"text-align: right;\">\n",
       "      <th></th>\n",
       "      <th>study_id</th>\n",
       "      <th>intervention_name</th>\n",
       "      <th>condition</th>\n",
       "      <th>sponsor</th>\n",
       "      <th>start_date</th>\n",
       "      <th>end_date</th>\n",
       "      <th>phase</th>\n",
       "      <th>status</th>\n",
       "      <th>completeness_score</th>\n",
       "      <th>study_duration_days</th>\n",
       "    </tr>\n",
       "  </thead>\n",
       "  <tbody>\n",
       "    <tr>\n",
       "      <th>0</th>\n",
       "      <td>NCT100000</td>\n",
       "      <td>Aspirin</td>\n",
       "      <td>Covid-19</td>\n",
       "      <td>Sanofi</td>\n",
       "      <td>2022-09-20</td>\n",
       "      <td>2025-04-07</td>\n",
       "      <td>Phase 2</td>\n",
       "      <td>Withdrawn</td>\n",
       "      <td>1.000</td>\n",
       "      <td>930.0</td>\n",
       "    </tr>\n",
       "    <tr>\n",
       "      <th>1</th>\n",
       "      <td>NCT100001</td>\n",
       "      <td>Trastuzumab</td>\n",
       "      <td>Alzheimer'S Disease</td>\n",
       "      <td>Pfizer</td>\n",
       "      <td>2023-07-01</td>\n",
       "      <td>2024-09-05</td>\n",
       "      <td>NaN</td>\n",
       "      <td>Terminated</td>\n",
       "      <td>0.875</td>\n",
       "      <td>432.0</td>\n",
       "    </tr>\n",
       "    <tr>\n",
       "      <th>2</th>\n",
       "      <td>NCT100002</td>\n",
       "      <td>Donepezil</td>\n",
       "      <td>Hypertension</td>\n",
       "      <td>Pfizer</td>\n",
       "      <td>2021-08-17</td>\n",
       "      <td>2025-05-24</td>\n",
       "      <td>Phase 1</td>\n",
       "      <td>Completed</td>\n",
       "      <td>1.000</td>\n",
       "      <td>1376.0</td>\n",
       "    </tr>\n",
       "    <tr>\n",
       "      <th>3</th>\n",
       "      <td>NCT100003</td>\n",
       "      <td>Remdesivir</td>\n",
       "      <td>Breast Cancer</td>\n",
       "      <td>Sanofi</td>\n",
       "      <td>2022-04-15</td>\n",
       "      <td>2025-05-20</td>\n",
       "      <td>Phase 1</td>\n",
       "      <td>Terminated</td>\n",
       "      <td>1.000</td>\n",
       "      <td>1131.0</td>\n",
       "    </tr>\n",
       "    <tr>\n",
       "      <th>4</th>\n",
       "      <td>NCT100004</td>\n",
       "      <td>Aspirin</td>\n",
       "      <td>Breast Cancer</td>\n",
       "      <td>Pfizer</td>\n",
       "      <td>2023-09-10</td>\n",
       "      <td>2024-08-28</td>\n",
       "      <td>Phase 4</td>\n",
       "      <td>Completed</td>\n",
       "      <td>1.000</td>\n",
       "      <td>353.0</td>\n",
       "    </tr>\n",
       "  </tbody>\n",
       "</table>\n",
       "</div>"
      ],
      "text/plain": [
       "    study_id intervention_name            condition sponsor  start_date  \\\n",
       "0  NCT100000           Aspirin             Covid-19  Sanofi  2022-09-20   \n",
       "1  NCT100001       Trastuzumab  Alzheimer'S Disease  Pfizer  2023-07-01   \n",
       "2  NCT100002         Donepezil         Hypertension  Pfizer  2021-08-17   \n",
       "3  NCT100003        Remdesivir        Breast Cancer  Sanofi  2022-04-15   \n",
       "4  NCT100004           Aspirin        Breast Cancer  Pfizer  2023-09-10   \n",
       "\n",
       "     end_date    phase      status  completeness_score  study_duration_days  \n",
       "0  2025-04-07  Phase 2   Withdrawn               1.000                930.0  \n",
       "1  2024-09-05      NaN  Terminated               0.875                432.0  \n",
       "2  2025-05-24  Phase 1   Completed               1.000               1376.0  \n",
       "3  2025-05-20  Phase 1  Terminated               1.000               1131.0  \n",
       "4  2024-08-28  Phase 4   Completed               1.000                353.0  "
      ]
     },
     "execution_count": 2,
     "metadata": {},
     "output_type": "execute_result"
    }
   ],
   "source": [
    "import pandas as pd\n",
    "from pathlib import Path\n",
    "from fuzzywuzzy import process\n",
    "\n",
    "BASE_DIR = Path.cwd()\n",
    "DATA_PATH = BASE_DIR / \"data\" / \"clinical_trials_cleaned.csv\"\n",
    "\n",
    "if not DATA_PATH.exists():  \n",
    "    raise FileNotFoundError(f\"Data file not found at {DATA_PATH}\")\n",
    "\n",
    "df = pd.read_csv(DATA_PATH)\n",
    "df.head()"
   ]
  },
  {
   "cell_type": "markdown",
   "metadata": {},
   "source": [
    "## 📚 Define Standard Vocabulary"
   ]
  },
  {
   "cell_type": "code",
   "execution_count": 3,
   "metadata": {},
   "outputs": [],
   "source": [
    "# I'd load this from a standard source like DrugBank\n",
    "vocabulary = ['Metformin', 'Aspirin', 'Trastuzumab', 'Donepezil', 'Salbutamol', 'Remdesivir']"
   ]
  },
  {
   "cell_type": "markdown",
   "metadata": {},
   "source": [
    "## 🤖 Fuzzy Matching Function"
   ]
  },
  {
   "cell_type": "code",
   "execution_count": 5,
   "metadata": {},
   "outputs": [],
   "source": [
    "def fuzzy_map(term, vocab_list):\n",
    "    if pd.isna(term) or term.strip() == '': \n",
    "        return pd.Series([None, 0, 'missing'])\n",
    "    match, score = process.extractOne(term, vocab_list)\n",
    "    status = 'mapped' if score >= 90 else 'low_score'\n",
    "    return pd.Series([match, score, status])"
   ]
  },
  {
   "cell_type": "markdown",
   "metadata": {},
   "source": [
    "## 🔄 Apply Mapping to Intervention Names"
   ]
  },
  {
   "cell_type": "code",
   "execution_count": 6,
   "metadata": {},
   "outputs": [
    {
     "data": {
      "text/html": [
       "<div>\n",
       "<style scoped>\n",
       "    .dataframe tbody tr th:only-of-type {\n",
       "        vertical-align: middle;\n",
       "    }\n",
       "\n",
       "    .dataframe tbody tr th {\n",
       "        vertical-align: top;\n",
       "    }\n",
       "\n",
       "    .dataframe thead th {\n",
       "        text-align: right;\n",
       "    }\n",
       "</style>\n",
       "<table border=\"1\" class=\"dataframe\">\n",
       "  <thead>\n",
       "    <tr style=\"text-align: right;\">\n",
       "      <th></th>\n",
       "      <th>intervention_name</th>\n",
       "      <th>mapped_term</th>\n",
       "      <th>match_score</th>\n",
       "      <th>mapping_status</th>\n",
       "    </tr>\n",
       "  </thead>\n",
       "  <tbody>\n",
       "    <tr>\n",
       "      <th>0</th>\n",
       "      <td>Aspirin</td>\n",
       "      <td>Aspirin</td>\n",
       "      <td>100</td>\n",
       "      <td>mapped</td>\n",
       "    </tr>\n",
       "    <tr>\n",
       "      <th>1</th>\n",
       "      <td>Trastuzumab</td>\n",
       "      <td>Trastuzumab</td>\n",
       "      <td>100</td>\n",
       "      <td>mapped</td>\n",
       "    </tr>\n",
       "    <tr>\n",
       "      <th>2</th>\n",
       "      <td>Donepezil</td>\n",
       "      <td>Donepezil</td>\n",
       "      <td>100</td>\n",
       "      <td>mapped</td>\n",
       "    </tr>\n",
       "    <tr>\n",
       "      <th>3</th>\n",
       "      <td>Remdesivir</td>\n",
       "      <td>Remdesivir</td>\n",
       "      <td>100</td>\n",
       "      <td>mapped</td>\n",
       "    </tr>\n",
       "    <tr>\n",
       "      <th>4</th>\n",
       "      <td>Aspirin</td>\n",
       "      <td>Aspirin</td>\n",
       "      <td>100</td>\n",
       "      <td>mapped</td>\n",
       "    </tr>\n",
       "    <tr>\n",
       "      <th>5</th>\n",
       "      <td>Donepezil</td>\n",
       "      <td>Donepezil</td>\n",
       "      <td>100</td>\n",
       "      <td>mapped</td>\n",
       "    </tr>\n",
       "    <tr>\n",
       "      <th>6</th>\n",
       "      <td>Salbutamol</td>\n",
       "      <td>Salbutamol</td>\n",
       "      <td>100</td>\n",
       "      <td>mapped</td>\n",
       "    </tr>\n",
       "    <tr>\n",
       "      <th>7</th>\n",
       "      <td>Metformin</td>\n",
       "      <td>Metformin</td>\n",
       "      <td>100</td>\n",
       "      <td>mapped</td>\n",
       "    </tr>\n",
       "    <tr>\n",
       "      <th>8</th>\n",
       "      <td>Remdesivir</td>\n",
       "      <td>Remdesivir</td>\n",
       "      <td>100</td>\n",
       "      <td>mapped</td>\n",
       "    </tr>\n",
       "    <tr>\n",
       "      <th>9</th>\n",
       "      <td>Salbutamol</td>\n",
       "      <td>Salbutamol</td>\n",
       "      <td>100</td>\n",
       "      <td>mapped</td>\n",
       "    </tr>\n",
       "  </tbody>\n",
       "</table>\n",
       "</div>"
      ],
      "text/plain": [
       "  intervention_name  mapped_term  match_score mapping_status\n",
       "0           Aspirin      Aspirin          100         mapped\n",
       "1       Trastuzumab  Trastuzumab          100         mapped\n",
       "2         Donepezil    Donepezil          100         mapped\n",
       "3        Remdesivir   Remdesivir          100         mapped\n",
       "4           Aspirin      Aspirin          100         mapped\n",
       "5         Donepezil    Donepezil          100         mapped\n",
       "6        Salbutamol   Salbutamol          100         mapped\n",
       "7         Metformin    Metformin          100         mapped\n",
       "8        Remdesivir   Remdesivir          100         mapped\n",
       "9        Salbutamol   Salbutamol          100         mapped"
      ]
     },
     "execution_count": 6,
     "metadata": {},
     "output_type": "execute_result"
    }
   ],
   "source": [
    "df[['mapped_term', 'match_score', 'mapping_status']] = df['intervention_name'].apply(lambda x: fuzzy_map(str(x), vocabulary))\n",
    "df[['intervention_name', 'mapped_term', 'match_score', 'mapping_status']].head(10)"
   ]
  },
  {
   "cell_type": "markdown",
   "metadata": {},
   "source": [
    "## 💾 Save Mapping Results"
   ]
  },
  {
   "cell_type": "code",
   "execution_count": 8,
   "metadata": {},
   "outputs": [
    {
     "name": "stdout",
     "output_type": "stream",
     "text": [
      "Mapping results saved to outputs/mapping_results.csv\n"
     ]
    }
   ],
   "source": [
    "df.to_csv(DATA_PATH.parent / \"mapping_results.csv\", index=False)\n",
    "\n",
    "print(\"Mapping results saved to outputs/mapping_results.csv\")"
   ]
  }
 ],
 "metadata": {
  "kernelspec": {
   "display_name": "Python 3",
   "language": "python",
   "name": "python3"
  },
  "language_info": {
   "codemirror_mode": {
    "name": "ipython",
    "version": 3
   },
   "file_extension": ".py",
   "mimetype": "text/x-python",
   "name": "python",
   "nbconvert_exporter": "python",
   "pygments_lexer": "ipython3",
   "version": "3.12.1"
  }
 },
 "nbformat": 4,
 "nbformat_minor": 2
}
